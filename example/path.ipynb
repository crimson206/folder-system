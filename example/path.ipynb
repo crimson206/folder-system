{
 "cells": [
  {
   "cell_type": "code",
   "execution_count": 2,
   "metadata": {},
   "outputs": [
    {
     "data": {
      "text/plain": [
       "'crimson/manager/crimson/folder-system'"
      ]
     },
     "execution_count": 2,
     "metadata": {},
     "output_type": "execute_result"
    }
   ],
   "source": [
    "from crimson.folder_system.path import get_sliced_path\n",
    "\n",
    "path = \"/home/crimson/manager/crimson/folder-system/example/path.ipynb\"\n",
    "\n",
    "get_sliced_path(path, 2, -2)"
   ]
  }
 ],
 "metadata": {
  "kernelspec": {
   "display_name": "folder-system",
   "language": "python",
   "name": "python3"
  },
  "language_info": {
   "codemirror_mode": {
    "name": "ipython",
    "version": 3
   },
   "file_extension": ".py",
   "mimetype": "text/x-python",
   "name": "python",
   "nbconvert_exporter": "python",
   "pygments_lexer": "ipython3",
   "version": "3.12.9"
  }
 },
 "nbformat": 4,
 "nbformat_minor": 2
}
