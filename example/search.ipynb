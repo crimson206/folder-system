{
 "cells": [
  {
   "cell_type": "code",
   "execution_count": 1,
   "metadata": {},
   "outputs": [
    {
     "data": {
      "text/plain": [
       "['../src/crimson',\n",
       " '../src/crimson/folder_system',\n",
       " '../src/crimson/folder_system/__init__.py',\n",
       " '../src/crimson/folder_system/__pycache__',\n",
       " '../src/crimson/folder_system/__pycache__/__init__.cpython-312.pyc',\n",
       " '../src/crimson/folder_system/__pycache__/delete.cpython-312.pyc',\n",
       " '../src/crimson/folder_system/__pycache__/filter.cpython-312.pyc',\n",
       " '../src/crimson/folder_system/__pycache__/path.cpython-312.pyc',\n",
       " '../src/crimson/folder_system/__pycache__/search.cpython-312.pyc',\n",
       " '../src/crimson/folder_system/delete.py',\n",
       " '../src/crimson/folder_system/filter.py',\n",
       " '../src/crimson/folder_system/search.py',\n",
       " '../src/crimson_folder_system.egg-info',\n",
       " '../src/crimson_folder_system.egg-info/PKG-INFO',\n",
       " '../src/crimson_folder_system.egg-info/SOURCES.txt',\n",
       " '../src/crimson_folder_system.egg-info/dependency_links.txt',\n",
       " '../src/crimson_folder_system.egg-info/requires.txt',\n",
       " '../src/crimson_folder_system.egg-info/top_level.txt']"
      ]
     },
     "execution_count": 1,
     "metadata": {},
     "output_type": "execute_result"
    }
   ],
   "source": [
    "from crimson.folder_system import FnFilter, search, ReFilter\n",
    "\n",
    "output = search('../src', filter_obj=FnFilter(exclude=['*.git*']), targets=['folder', 'path'])\n",
    "\n",
    "sorted(output)"
   ]
  },
  {
   "cell_type": "code",
   "execution_count": 2,
   "metadata": {},
   "outputs": [
    {
     "data": {
      "text/plain": [
       "['../src/crimson/folder_system/__init__.py',\n",
       " '../src/crimson/folder_system/delete.py',\n",
       " '../src/crimson/folder_system/filter.py',\n",
       " '../src/crimson/folder_system/search.py']"
      ]
     },
     "execution_count": 2,
     "metadata": {},
     "output_type": "execute_result"
    }
   ],
   "source": [
    "output = search('../src', filter_obj=ReFilter(\n",
    "    exclude=['.git', '__pycache__', 'egg-info']), \n",
    "    targets=['path']\n",
    ")\n",
    "\n",
    "sorted(output)"
   ]
  }
 ],
 "metadata": {
  "kernelspec": {
   "display_name": "folder-system",
   "language": "python",
   "name": "python3"
  },
  "language_info": {
   "codemirror_mode": {
    "name": "ipython",
    "version": 3
   },
   "file_extension": ".py",
   "mimetype": "text/x-python",
   "name": "python",
   "nbconvert_exporter": "python",
   "pygments_lexer": "ipython3",
   "version": "3.12.9"
  }
 },
 "nbformat": 4,
 "nbformat_minor": 2
}
