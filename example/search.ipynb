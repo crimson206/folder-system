{
 "cells": [
  {
   "cell_type": "code",
   "execution_count": 1,
   "metadata": {},
   "outputs": [
    {
     "data": {
      "text/plain": [
       "['../beta/scripts',\n",
       " '../beta/src',\n",
       " '../beta/requirements.txt',\n",
       " '../beta/requirements_test.txt',\n",
       " '../beta/requirements_dev.txt',\n",
       " '../beta/pyproject.toml',\n",
       " '../beta/scripts/setup_env.sh',\n",
       " '../beta/src/crimson',\n",
       " '../beta/src/crimson_folder_system_beta.egg-info',\n",
       " '../beta/src/crimson/folder_system_beta',\n",
       " '../beta/src/crimson/folder_system_beta/__pycache__',\n",
       " '../beta/src/crimson/folder_system_beta/__init__.py',\n",
       " '../beta/src/crimson/folder_system_beta/search.py',\n",
       " '../beta/src/crimson/folder_system_beta/filter.py',\n",
       " '../beta/src/crimson/folder_system_beta/__pycache__/search.cpython-312.pyc',\n",
       " '../beta/src/crimson/folder_system_beta/__pycache__/filter.cpython-312.pyc',\n",
       " '../beta/src/crimson/folder_system_beta/__pycache__/__init__.cpython-312.pyc',\n",
       " '../beta/src/crimson_folder_system_beta.egg-info/top_level.txt',\n",
       " '../beta/src/crimson_folder_system_beta.egg-info/dependency_links.txt',\n",
       " '../beta/src/crimson_folder_system_beta.egg-info/requires.txt',\n",
       " '../beta/src/crimson_folder_system_beta.egg-info/PKG-INFO',\n",
       " '../beta/src/crimson_folder_system_beta.egg-info/SOURCES.txt']"
      ]
     },
     "execution_count": 1,
     "metadata": {},
     "output_type": "execute_result"
    }
   ],
   "source": [
    "from crimson.folder_system_beta import FnFilter, search\n",
    "\n",
    "search('../beta', filter_obj=FnFilter(exclude=['*.git*']), targets=['folder', 'path'])"
   ]
  }
 ],
 "metadata": {
  "kernelspec": {
   "display_name": "folder-system-beta",
   "language": "python",
   "name": "python3"
  },
  "language_info": {
   "codemirror_mode": {
    "name": "ipython",
    "version": 3
   },
   "file_extension": ".py",
   "mimetype": "text/x-python",
   "name": "python",
   "nbconvert_exporter": "python",
   "pygments_lexer": "ipython3",
   "version": "3.12.7"
  }
 },
 "nbformat": 4,
 "nbformat_minor": 2
}
