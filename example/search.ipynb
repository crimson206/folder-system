{
 "cells": [
  {
   "cell_type": "code",
   "execution_count": 4,
   "metadata": {},
   "outputs": [
    {
     "data": {
      "text/plain": [
       "['../src',\n",
       " '../src/crimson',\n",
       " '../src/crimson/folder_system',\n",
       " '../src/crimson/folder_system/__init__.py',\n",
       " '../src/crimson/folder_system/delete.py',\n",
       " '../src/crimson/folder_system/filter.py',\n",
       " '../src/crimson/folder_system/path.py',\n",
       " '../src/crimson/folder_system/search.py']"
      ]
     },
     "execution_count": 4,
     "metadata": {},
     "output_type": "execute_result"
    }
   ],
   "source": [
    "from crimson.folder_system import FnFilter, search, ReFilter\n",
    "\n",
    "output = search('../', filter_obj=FnFilter(\n",
    "    include= [\n",
    "        '*src*'\n",
    "\t],\n",
    "\texclude=[\n",
    "        '*__pycache__*', \n",
    "        '*.git*',\n",
    "        '*egg-info*'\n",
    "    ]), \n",
    "    targets=['folder', 'path'])\n",
    "\n",
    "sorted(output)"
   ]
  },
  {
   "cell_type": "code",
   "execution_count": 5,
   "metadata": {},
   "outputs": [
    {
     "data": {
      "text/plain": [
       "['../src', '../src/crimson', '../src/crimson/folder_system']"
      ]
     },
     "execution_count": 5,
     "metadata": {},
     "output_type": "execute_result"
    }
   ],
   "source": [
    "output = search(\n",
    "    base_root= '../', \n",
    "    filter_obj=FnFilter(\n",
    "\t\tinclude= [\n",
    "\t\t\t'*src*'\n",
    "\t\t],\n",
    "\t\texclude=[\n",
    "\t\t\t'*__pycache__*', \n",
    "\t\t\t'*.git*',\n",
    "            '*egg-info*'\n",
    "\t]), \n",
    "    targets=['folder']\n",
    ")\n",
    "\n",
    "sorted(output)"
   ]
  },
  {
   "cell_type": "code",
   "execution_count": 6,
   "metadata": {},
   "outputs": [
    {
     "data": {
      "text/plain": [
       "['../control.ipynb',\n",
       " '../example/delete.ipynb',\n",
       " '../example/path.ipynb',\n",
       " '../example/search.ipynb',\n",
       " '../example/search_content.ipynb']"
      ]
     },
     "execution_count": 6,
     "metadata": {},
     "output_type": "execute_result"
    }
   ],
   "source": [
    "output = search(\n",
    "    '../',\n",
    "    filter_obj=ReFilter(\n",
    "\t\tinclude= ['.ipynb'],\n",
    "\t\texclude= ['.git', '__pycache__', 'egg-info']\n",
    "\t), \n",
    "    targets=['path'])\n",
    "\n",
    "\n",
    "sorted(output)"
   ]
  }
 ],
 "metadata": {
  "kernelspec": {
   "display_name": "folder-system",
   "language": "python",
   "name": "python3"
  },
  "language_info": {
   "codemirror_mode": {
    "name": "ipython",
    "version": 3
   },
   "file_extension": ".py",
   "mimetype": "text/x-python",
   "name": "python",
   "nbconvert_exporter": "python",
   "pygments_lexer": "ipython3",
   "version": "3.12.9"
  }
 },
 "nbformat": 4,
 "nbformat_minor": 2
}
