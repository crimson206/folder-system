{
 "cells": [
  {
   "cell_type": "code",
   "execution_count": 1,
   "metadata": {},
   "outputs": [
    {
     "data": {
      "text/plain": [
       "['../src/crimson/folder_system/__init__.py',\n",
       " '../src/crimson/folder_system/filter.py',\n",
       " '../src/crimson/folder_system/search.py']"
      ]
     },
     "execution_count": 1,
     "metadata": {},
     "output_type": "execute_result"
    }
   ],
   "source": [
    "from crimson.folder_system.search import filter_files_by_content\n",
    "from crimson.folder_system.filter import FnFilter, ReFilter\n",
    "\n",
    "filter_files_by_content(\n",
    "\tbase_root=\"../src\",\n",
    "\tcontent_filter=FnFilter(include=['*Filter*'])\n",
    ")"
   ]
  },
  {
   "cell_type": "code",
   "execution_count": 2,
   "metadata": {},
   "outputs": [
    {
     "data": {
      "text/plain": [
       "['../src/crimson/folder_system/filter.py']"
      ]
     },
     "execution_count": 2,
     "metadata": {},
     "output_type": "execute_result"
    }
   ],
   "source": [
    "search_implementation = \"class Filter\"\n",
    "\n",
    "filter_files_by_content(\n",
    "\tbase_root=\"../src\",\n",
    "    path_filter=ReFilter(exclude=['egg-info']),\n",
    "\tcontent_filter=ReFilter(include=[search_implementation])\n",
    ")"
   ]
  },
  {
   "cell_type": "code",
   "execution_count": 3,
   "metadata": {},
   "outputs": [
    {
     "data": {
      "text/plain": [
       "['../src/crimson/folder_system/__init__.py',\n",
       " '../src/crimson/folder_system/filter.py',\n",
       " '../src/crimson/folder_system/search.py']"
      ]
     },
     "execution_count": 3,
     "metadata": {},
     "output_type": "execute_result"
    }
   ],
   "source": [
    "search_all_references = \"Filter\"\n",
    "\n",
    "filter_files_by_content(\n",
    "\tbase_root=\"../src\",\n",
    "\tpath_filter=ReFilter(exclude=['egg-info']),\n",
    "\tcontent_filter=ReFilter(include=[search_all_references])\n",
    ")"
   ]
  }
 ],
 "metadata": {
  "kernelspec": {
   "display_name": "folder-system",
   "language": "python",
   "name": "python3"
  },
  "language_info": {
   "codemirror_mode": {
    "name": "ipython",
    "version": 3
   },
   "file_extension": ".py",
   "mimetype": "text/x-python",
   "name": "python",
   "nbconvert_exporter": "python",
   "pygments_lexer": "ipython3",
   "version": "3.12.9"
  }
 },
 "nbformat": 4,
 "nbformat_minor": 2
}
