{
 "cells": [
  {
   "cell_type": "code",
   "execution_count": 1,
   "metadata": {},
   "outputs": [
    {
     "data": {
      "text/plain": [
       "['../beta/src/crimson/folder_system_beta/__init__.py',\n",
       " '../beta/src/crimson/folder_system_beta/search.py',\n",
       " '../beta/src/crimson/folder_system_beta/filter.py']"
      ]
     },
     "execution_count": 1,
     "metadata": {},
     "output_type": "execute_result"
    }
   ],
   "source": [
    "from crimson.folder_system_beta.search import filter_files_by_content\n",
    "from crimson.folder_system_beta.filter import FnFilter, ReFilter\n",
    "\n",
    "filter_files_by_content(\n",
    "\tbase_root=\"../beta\",\n",
    "\tcontent_filter=FnFilter(include=['*Filter*'])\n",
    ")"
   ]
  },
  {
   "cell_type": "code",
   "execution_count": 2,
   "metadata": {},
   "outputs": [
    {
     "data": {
      "text/plain": [
       "['../beta/requirements.txt',\n",
       " '../beta/pyproject.toml',\n",
       " '../beta/src/crimson/folder_system_beta/__init__.py',\n",
       " '../beta/src/crimson/folder_system_beta/search.py',\n",
       " '../beta/src/crimson/folder_system_beta/filter.py']"
      ]
     },
     "execution_count": 2,
     "metadata": {},
     "output_type": "execute_result"
    }
   ],
   "source": [
    "filter_files_by_content(\n",
    "\tbase_root=\"../beta\",\n",
    "    path_filter=ReFilter(exclude=['egg-info']),\n",
    "\tcontent_filter=ReFilter(include=['Filter'])\n",
    ")"
   ]
  }
 ],
 "metadata": {
  "kernelspec": {
   "display_name": "folder-system-beta",
   "language": "python",
   "name": "python3"
  },
  "language_info": {
   "codemirror_mode": {
    "name": "ipython",
    "version": 3
   },
   "file_extension": ".py",
   "mimetype": "text/x-python",
   "name": "python",
   "nbconvert_exporter": "python",
   "pygments_lexer": "ipython3",
   "version": "3.12.7"
  }
 },
 "nbformat": 4,
 "nbformat_minor": 2
}
